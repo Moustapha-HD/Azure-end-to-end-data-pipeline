{
 "cells": [
  {
   "cell_type": "code",
   "execution_count": 0,
   "metadata": {
    "application/vnd.databricks.v1+cell": {
     "cellMetadata": {
      "byteLimit": 2048000,
      "rowLimit": 10000
     },
     "inputWidgets": {},
     "nuid": "9978a293-bff1-4f12-9f3e-78236471e488",
     "showTitle": false,
     "title": ""
    }
   },
   "outputs": [
    {
     "output_type": "stream",
     "name": "stdout",
     "output_type": "stream",
     "text": [
      "Out[1]: [FileInfo(path='dbfs:/mnt/bronze/HumanResources/Department/', name='Department/', size=0, modificationTime=1694698929000),\n FileInfo(path='dbfs:/mnt/bronze/HumanResources/Employee/', name='Employee/', size=0, modificationTime=1694698930000),\n FileInfo(path='dbfs:/mnt/bronze/HumanResources/EmployeeDepartmentHistory/', name='EmployeeDepartmentHistory/', size=0, modificationTime=1694698931000),\n FileInfo(path='dbfs:/mnt/bronze/HumanResources/EmployeePayHistory/', name='EmployeePayHistory/', size=0, modificationTime=1694698932000),\n FileInfo(path='dbfs:/mnt/bronze/HumanResources/JobCandidate/', name='JobCandidate/', size=0, modificationTime=1694698928000),\n FileInfo(path='dbfs:/mnt/bronze/HumanResources/Shift/', name='Shift/', size=0, modificationTime=1694698933000)]"
     ]
    }
   ],
   "source": [
    "dbutils.fs.ls(\"mnt/bronze/HumanResources/\")"
   ]
  },
  {
   "cell_type": "code",
   "execution_count": 0,
   "metadata": {
    "application/vnd.databricks.v1+cell": {
     "cellMetadata": {
      "byteLimit": 2048000,
      "rowLimit": 10000
     },
     "inputWidgets": {},
     "nuid": "7a705cbc-2fa3-4c86-a64f-226d7dc490ab",
     "showTitle": false,
     "title": ""
    }
   },
   "outputs": [
    {
     "output_type": "stream",
     "name": "stdout",
     "output_type": "stream",
     "text": [
      "Out[8]: []"
     ]
    }
   ],
   "source": [
    "dbutils.fs.ls(\"mnt/silver/\")"
   ]
  },
  {
   "cell_type": "code",
   "execution_count": 0,
   "metadata": {
    "application/vnd.databricks.v1+cell": {
     "cellMetadata": {
      "byteLimit": 2048000,
      "rowLimit": 10000
     },
     "inputWidgets": {},
     "nuid": "970e56aa-35f3-4fea-9332-cdfce21172fc",
     "showTitle": false,
     "title": ""
    }
   },
   "outputs": [],
   "source": [
    "table_name = []\n",
    "\n",
    "for i in dbutils.fs.ls('mnt/bronze/HumanResources/'):\n",
    "    table_name.append(i.name.split('/')[0])"
   ]
  },
  {
   "cell_type": "code",
   "execution_count": 0,
   "metadata": {
    "application/vnd.databricks.v1+cell": {
     "cellMetadata": {
      "byteLimit": 2048000,
      "rowLimit": 10000
     },
     "inputWidgets": {},
     "nuid": "eb2bd85a-bb20-476a-834f-1fb005ccaeba",
     "showTitle": false,
     "title": ""
    }
   },
   "outputs": [],
   "source": [
    "from pyspark.sql. functions import from_utc_timestamp, date_format\n",
    "from pyspark.sql.types import TimestampType\n",
    "\n",
    "for i in table_name:\n",
    "    path='/mnt/bronze/HumanResources/' + i + '/' + i + '.parquet'\n",
    "    df = spark.read.format('parquet').load(path)\n",
    "    column= df.columns\n",
    "\n",
    "    for col in column:\n",
    "        if \"Date\" in col or \"date\" in col:\n",
    "            df = df.withColumn (col, date_format (from_utc_timestamp(df[col].cast(TimestampType()), \"UTC\"), \"yyyy-MM-dd\"))\n",
    "\n",
    "    output_path='/mnt/silver/HumanResources/' +i +'/'\n",
    "    df.write.format('delta').mode(\"overwrite\").save(output_path)"
   ]
  },
  {
   "cell_type": "code",
   "execution_count": 0,
   "metadata": {
    "application/vnd.databricks.v1+cell": {
     "cellMetadata": {
      "byteLimit": 2048000,
      "rowLimit": 10000
     },
     "inputWidgets": {},
     "nuid": "0e5ba51d-9e13-4276-a35d-050fe1bf5a41",
     "showTitle": false,
     "title": ""
    }
   },
   "outputs": [
    {
     "output_type": "display_data",
     "data": {
      "text/html": [
       "<style scoped>\n",
       "  .table-result-container {\n",
       "    max-height: 300px;\n",
       "    overflow: auto;\n",
       "  }\n",
       "  table, th, td {\n",
       "    border: 1px solid black;\n",
       "    border-collapse: collapse;\n",
       "  }\n",
       "  th, td {\n",
       "    padding: 5px;\n",
       "  }\n",
       "  th {\n",
       "    text-align: left;\n",
       "  }\n",
       "</style><div class='table-result-container'><table class='table-result'><thead style='background-color: white'><tr><th>ShiftID</th><th>Name</th><th>StartTime</th><th>EndTime</th><th>ModifiedDate</th></tr></thead><tbody><tr><td>1</td><td>Day</td><td>1970-01-01T07:00:00.000+0000</td><td>1970-01-01T15:00:00.000+0000</td><td>2008-04-30</td></tr><tr><td>2</td><td>Evening</td><td>1970-01-01T15:00:00.000+0000</td><td>1970-01-01T23:00:00.000+0000</td><td>2008-04-30</td></tr><tr><td>3</td><td>Night</td><td>1970-01-01T23:00:00.000+0000</td><td>1970-01-01T07:00:00.000+0000</td><td>2008-04-30</td></tr></tbody></table></div>"
      ]
     },
     "metadata": {
      "application/vnd.databricks.v1+output": {
       "addedWidgets": {},
       "aggData": [],
       "aggError": "",
       "aggOverflow": false,
       "aggSchema": [],
       "aggSeriesLimitReached": false,
       "aggType": "",
       "arguments": {},
       "columnCustomDisplayInfos": {},
       "data": [
        [
         1,
         "Day",
         "1970-01-01T07:00:00.000+0000",
         "1970-01-01T15:00:00.000+0000",
         "2008-04-30"
        ],
        [
         2,
         "Evening",
         "1970-01-01T15:00:00.000+0000",
         "1970-01-01T23:00:00.000+0000",
         "2008-04-30"
        ],
        [
         3,
         "Night",
         "1970-01-01T23:00:00.000+0000",
         "1970-01-01T07:00:00.000+0000",
         "2008-04-30"
        ]
       ],
       "datasetInfos": [],
       "dbfsResultPath": null,
       "isJsonSchema": true,
       "metadata": {},
       "overflow": false,
       "plotOptions": {
        "customPlotOptions": {},
        "displayType": "table",
        "pivotAggregation": null,
        "pivotColumns": null,
        "xColumns": null,
        "yColumns": null
       },
       "removedWidgets": [],
       "schema": [
        {
         "metadata": "{}",
         "name": "ShiftID",
         "type": "\"integer\""
        },
        {
         "metadata": "{}",
         "name": "Name",
         "type": "\"string\""
        },
        {
         "metadata": "{}",
         "name": "StartTime",
         "type": "\"timestamp\""
        },
        {
         "metadata": "{}",
         "name": "EndTime",
         "type": "\"timestamp\""
        },
        {
         "metadata": "{}",
         "name": "ModifiedDate",
         "type": "\"string\""
        }
       ],
       "type": "table"
      }
     },
     "output_type": "display_data"
    }
   ],
   "source": [
    "display(df)"
   ]
  }
 ],
 "metadata": {
  "application/vnd.databricks.v1+notebook": {
   "dashboards": [],
   "language": "python",
   "notebookMetadata": {
    "pythonIndentUnit": 4
   },
   "notebookName": "bronze_silver",
   "widgets": {}
  }
 },
 "nbformat": 4,
 "nbformat_minor": 0
}
