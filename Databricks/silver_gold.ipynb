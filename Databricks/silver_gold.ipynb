{
 "cells": [
  {
   "cell_type": "code",
   "execution_count": 0,
   "metadata": {
    "application/vnd.databricks.v1+cell": {
     "cellMetadata": {
      "byteLimit": 2048000,
      "rowLimit": 10000
     },
     "inputWidgets": {},
     "nuid": "81603760-51a0-4d1f-8c13-eea965cbeb1f",
     "showTitle": false,
     "title": ""
    }
   },
   "outputs": [
    {
     "output_type": "stream",
     "name": "stdout",
     "output_type": "stream",
     "text": [
      "Out[11]: [FileInfo(path='dbfs:/mnt/silver/HumanResources/Department/', name='Department/', size=0, modificationTime=1694759870000),\n FileInfo(path='dbfs:/mnt/silver/HumanResources/Employee/', name='Employee/', size=0, modificationTime=1694759873000),\n FileInfo(path='dbfs:/mnt/silver/HumanResources/EmployeeDepartmentHistory/', name='EmployeeDepartmentHistory/', size=0, modificationTime=1694759876000),\n FileInfo(path='dbfs:/mnt/silver/HumanResources/EmployeePayHistory/', name='EmployeePayHistory/', size=0, modificationTime=1694759878000),\n FileInfo(path='dbfs:/mnt/silver/HumanResources/JobCandidate/', name='JobCandidate/', size=0, modificationTime=1694759882000),\n FileInfo(path='dbfs:/mnt/silver/HumanResources/Shift/', name='Shift/', size=0, modificationTime=1694759884000)]"
     ]
    }
   ],
   "source": [
    "dbutils.fs.ls('mnt/silver/HumanResources/')"
   ]
  },
  {
   "cell_type": "code",
   "execution_count": 0,
   "metadata": {
    "application/vnd.databricks.v1+cell": {
     "cellMetadata": {
      "byteLimit": 2048000,
      "rowLimit": 10000
     },
     "inputWidgets": {},
     "nuid": "f755e422-6586-4db9-8736-9bdaca791b66",
     "showTitle": false,
     "title": ""
    }
   },
   "outputs": [
    {
     "output_type": "stream",
     "name": "stdout",
     "output_type": "stream",
     "text": [
      "Out[12]: []"
     ]
    }
   ],
   "source": [
    "dbutils.fs.ls('mnt/gold/')"
   ]
  },
  {
   "cell_type": "code",
   "execution_count": 0,
   "metadata": {
    "application/vnd.databricks.v1+cell": {
     "cellMetadata": {
      "byteLimit": 2048000,
      "rowLimit": 10000
     },
     "inputWidgets": {},
     "nuid": "34075cf9-f6e2-4bbe-8038-c28950f10a3d",
     "showTitle": false,
     "title": ""
    }
   },
   "outputs": [],
   "source": [
    "table_name = []\n",
    "\n",
    "for i in dbutils.fs.ls('mnt/silver/HumanResources/'):\n",
    "    table_name.append(i.name.split('/')[0])"
   ]
  },
  {
   "cell_type": "code",
   "execution_count": 0,
   "metadata": {
    "application/vnd.databricks.v1+cell": {
     "cellMetadata": {
      "byteLimit": 2048000,
      "rowLimit": 10000
     },
     "inputWidgets": {},
     "nuid": "82705daf-374b-4835-a21c-de5a432e64a4",
     "showTitle": false,
     "title": ""
    }
   },
   "outputs": [
    {
     "output_type": "stream",
     "name": "stdout",
     "output_type": "stream",
     "text": [
      "/mnt/silver/HumanResources/Department\n/mnt/silver/HumanResources/Employee\n/mnt/silver/HumanResources/EmployeeDepartmentHistory\n/mnt/silver/HumanResources/EmployeePayHistory\n/mnt/silver/HumanResources/JobCandidate\n/mnt/silver/HumanResources/Shift\n"
     ]
    }
   ],
   "source": [
    "for name in table_name: \n",
    "    path = '/mnt/silver/HumanResources/' + name\n",
    "    print(path)\n",
    "    df = spark.read.format('delta').load(path)\n",
    "\n",
    "    # Get the list of column names\n",
    "    column_names = df.columns\n",
    "    for old_col_name in column_names:\n",
    "        # Convert column name from ColumnName to Column_Name format\n",
    "        new_col_name = \"\".join([\"_\" + char if char.isupper() and not old_col_name [i - 1].isupper() else char for i, char in enumerate (old_col_name)]).lstrip(\"_\")\n",
    "        \n",
    "        # Change the column name using withColumn Renamed and regexp_replace\n",
    "        df = df.withColumnRenamed (old_col_name, new_col_name)\n",
    "    \n",
    "    output_path = '/mnt/gold/HumanResources/' +name +'/'\n",
    "    df.write.format('delta').mode(\"overwrite\").save(output_path)"
   ]
  },
  {
   "cell_type": "code",
   "execution_count": 0,
   "metadata": {
    "application/vnd.databricks.v1+cell": {
     "cellMetadata": {
      "byteLimit": 2048000,
      "rowLimit": 10000
     },
     "inputWidgets": {},
     "nuid": "04de49f4-759f-4a27-b361-00273a0e4e99",
     "showTitle": false,
     "title": ""
    }
   },
   "outputs": [
    {
     "output_type": "display_data",
     "data": {
      "text/html": [
       "<style scoped>\n",
       "  .table-result-container {\n",
       "    max-height: 300px;\n",
       "    overflow: auto;\n",
       "  }\n",
       "  table, th, td {\n",
       "    border: 1px solid black;\n",
       "    border-collapse: collapse;\n",
       "  }\n",
       "  th, td {\n",
       "    padding: 5px;\n",
       "  }\n",
       "  th {\n",
       "    text-align: left;\n",
       "  }\n",
       "</style><div class='table-result-container'><table class='table-result'><thead style='background-color: white'><tr><th>Shift_ID</th><th>Name</th><th>Start_Time</th><th>End_Time</th><th>Modified_Date</th></tr></thead><tbody><tr><td>1</td><td>Day</td><td>1970-01-01T07:00:00.000+0000</td><td>1970-01-01T15:00:00.000+0000</td><td>2008-04-30</td></tr><tr><td>2</td><td>Evening</td><td>1970-01-01T15:00:00.000+0000</td><td>1970-01-01T23:00:00.000+0000</td><td>2008-04-30</td></tr><tr><td>3</td><td>Night</td><td>1970-01-01T23:00:00.000+0000</td><td>1970-01-01T07:00:00.000+0000</td><td>2008-04-30</td></tr></tbody></table></div>"
      ]
     },
     "metadata": {
      "application/vnd.databricks.v1+output": {
       "addedWidgets": {},
       "aggData": [],
       "aggError": "",
       "aggOverflow": false,
       "aggSchema": [],
       "aggSeriesLimitReached": false,
       "aggType": "",
       "arguments": {},
       "columnCustomDisplayInfos": {},
       "data": [
        [
         1,
         "Day",
         "1970-01-01T07:00:00.000+0000",
         "1970-01-01T15:00:00.000+0000",
         "2008-04-30"
        ],
        [
         2,
         "Evening",
         "1970-01-01T15:00:00.000+0000",
         "1970-01-01T23:00:00.000+0000",
         "2008-04-30"
        ],
        [
         3,
         "Night",
         "1970-01-01T23:00:00.000+0000",
         "1970-01-01T07:00:00.000+0000",
         "2008-04-30"
        ]
       ],
       "datasetInfos": [],
       "dbfsResultPath": null,
       "isJsonSchema": true,
       "metadata": {},
       "overflow": false,
       "plotOptions": {
        "customPlotOptions": {},
        "displayType": "table",
        "pivotAggregation": null,
        "pivotColumns": null,
        "xColumns": null,
        "yColumns": null
       },
       "removedWidgets": [],
       "schema": [
        {
         "metadata": "{}",
         "name": "Shift_ID",
         "type": "\"integer\""
        },
        {
         "metadata": "{}",
         "name": "Name",
         "type": "\"string\""
        },
        {
         "metadata": "{}",
         "name": "Start_Time",
         "type": "\"timestamp\""
        },
        {
         "metadata": "{}",
         "name": "End_Time",
         "type": "\"timestamp\""
        },
        {
         "metadata": "{}",
         "name": "Modified_Date",
         "type": "\"string\""
        }
       ],
       "type": "table"
      }
     },
     "output_type": "display_data"
    }
   ],
   "source": [
    "display(df)"
   ]
  }
 ],
 "metadata": {
  "application/vnd.databricks.v1+notebook": {
   "dashboards": [],
   "language": "python",
   "notebookMetadata": {
    "pythonIndentUnit": 4
   },
   "notebookName": "silver_gold",
   "widgets": {}
  }
 },
 "nbformat": 4,
 "nbformat_minor": 0
}
